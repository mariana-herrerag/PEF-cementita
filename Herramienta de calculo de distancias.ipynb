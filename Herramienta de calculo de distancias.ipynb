{
 "cells": [
  {
   "cell_type": "code",
   "execution_count": 1,
   "metadata": {
    "colab": {
     "base_uri": "https://localhost:8080/"
    },
    "id": "GkUNsRNUVXaa",
    "outputId": "f065f1de-f141-482c-c892-715f415ff7bf"
   },
   "outputs": [
    {
     "name": "stdout",
     "output_type": "stream",
     "text": [
      "Defaulting to user installation because normal site-packages is not writeable\n",
      "Requirement already satisfied: geopy in c:\\users\\maria\\appdata\\roaming\\python\\python311\\site-packages (2.4.1)\n",
      "Requirement already satisfied: geographiclib<3,>=1.52 in c:\\users\\maria\\appdata\\roaming\\python\\python311\\site-packages (from geopy) (2.0)\n"
     ]
    }
   ],
   "source": [
    "import pandas as pd\n",
    "import numpy as np\n",
    "!pip install geopy\n",
    "from geopy.distance import geodesic\n",
    "from geopy.distance import distance"
   ]
  },
  {
   "cell_type": "code",
   "execution_count": 2,
   "metadata": {
    "colab": {
     "base_uri": "https://localhost:8080/",
     "height": 206
    },
    "id": "JS2yAU_g6-ut",
    "outputId": "7357f701-2f31-425c-af32-f0f0723498b1"
   },
   "outputs": [
    {
     "data": {
      "text/html": [
       "<div>\n",
       "<style scoped>\n",
       "    .dataframe tbody tr th:only-of-type {\n",
       "        vertical-align: middle;\n",
       "    }\n",
       "\n",
       "    .dataframe tbody tr th {\n",
       "        vertical-align: top;\n",
       "    }\n",
       "\n",
       "    .dataframe thead th {\n",
       "        text-align: right;\n",
       "    }\n",
       "</style>\n",
       "<table border=\"1\" class=\"dataframe\">\n",
       "  <thead>\n",
       "    <tr style=\"text-align: right;\">\n",
       "      <th></th>\n",
       "      <th>LAT</th>\n",
       "      <th>LONG</th>\n",
       "    </tr>\n",
       "  </thead>\n",
       "  <tbody>\n",
       "    <tr>\n",
       "      <th>0</th>\n",
       "      <td>16.883025</td>\n",
       "      <td>-99.896139</td>\n",
       "    </tr>\n",
       "    <tr>\n",
       "      <th>1</th>\n",
       "      <td>16.874242</td>\n",
       "      <td>-99.891547</td>\n",
       "    </tr>\n",
       "    <tr>\n",
       "      <th>2</th>\n",
       "      <td>16.855032</td>\n",
       "      <td>-99.846083</td>\n",
       "    </tr>\n",
       "    <tr>\n",
       "      <th>3</th>\n",
       "      <td>16.830069</td>\n",
       "      <td>-99.795341</td>\n",
       "    </tr>\n",
       "    <tr>\n",
       "      <th>4</th>\n",
       "      <td>16.804078</td>\n",
       "      <td>-99.833077</td>\n",
       "    </tr>\n",
       "  </tbody>\n",
       "</table>\n",
       "</div>"
      ],
      "text/plain": [
       "         LAT       LONG\n",
       "0  16.883025 -99.896139\n",
       "1  16.874242 -99.891547\n",
       "2  16.855032 -99.846083\n",
       "3  16.830069 -99.795341\n",
       "4  16.804078 -99.833077"
      ]
     },
     "execution_count": 2,
     "metadata": {},
     "output_type": "execute_result"
    }
   ],
   "source": [
    "csv=\"refugios.csv\"\n",
    "r=pd.read_csv(csv)\n",
    "r.head()"
   ]
  },
  {
   "cell_type": "code",
   "execution_count": 3,
   "metadata": {
    "colab": {
     "base_uri": "https://localhost:8080/",
     "height": 206
    },
    "id": "h7725PZu7Bjb",
    "outputId": "85a03610-4c0e-4646-de58-d52feacc91d3"
   },
   "outputs": [
    {
     "data": {
      "text/html": [
       "<div>\n",
       "<style scoped>\n",
       "    .dataframe tbody tr th:only-of-type {\n",
       "        vertical-align: middle;\n",
       "    }\n",
       "\n",
       "    .dataframe tbody tr th {\n",
       "        vertical-align: top;\n",
       "    }\n",
       "\n",
       "    .dataframe thead th {\n",
       "        text-align: right;\n",
       "    }\n",
       "</style>\n",
       "<table border=\"1\" class=\"dataframe\">\n",
       "  <thead>\n",
       "    <tr style=\"text-align: right;\">\n",
       "      <th></th>\n",
       "      <th>LAT</th>\n",
       "      <th>LONG</th>\n",
       "    </tr>\n",
       "  </thead>\n",
       "  <tbody>\n",
       "    <tr>\n",
       "      <th>0</th>\n",
       "      <td>16.876952</td>\n",
       "      <td>-99.899884</td>\n",
       "    </tr>\n",
       "    <tr>\n",
       "      <th>1</th>\n",
       "      <td>16.875723</td>\n",
       "      <td>-99.888034</td>\n",
       "    </tr>\n",
       "    <tr>\n",
       "      <th>2</th>\n",
       "      <td>16.799835</td>\n",
       "      <td>-99.835662</td>\n",
       "    </tr>\n",
       "    <tr>\n",
       "      <th>3</th>\n",
       "      <td>16.820880</td>\n",
       "      <td>-99.816799</td>\n",
       "    </tr>\n",
       "    <tr>\n",
       "      <th>4</th>\n",
       "      <td>16.868254</td>\n",
       "      <td>-99.901398</td>\n",
       "    </tr>\n",
       "  </tbody>\n",
       "</table>\n",
       "</div>"
      ],
      "text/plain": [
       "         LAT       LONG\n",
       "0  16.876952 -99.899884\n",
       "1  16.875723 -99.888034\n",
       "2  16.799835 -99.835662\n",
       "3  16.820880 -99.816799\n",
       "4  16.868254 -99.901398"
      ]
     },
     "execution_count": 3,
     "metadata": {},
     "output_type": "execute_result"
    }
   ],
   "source": [
    "csv=\"demandas.csv\"\n",
    "d=pd.read_csv(csv)\n",
    "d.head()"
   ]
  },
  {
   "cell_type": "code",
   "execution_count": 4,
   "metadata": {
    "id": "l0ZSNTIDEet1"
   },
   "outputs": [],
   "source": [
    "distances_matrix = np.zeros((len(r), len(d)))"
   ]
  },
  {
   "cell_type": "code",
   "execution_count": 5,
   "metadata": {
    "id": "99QEREOlEp3h"
   },
   "outputs": [],
   "source": [
    "for i, r_row in r.iterrows():\n",
    "    for j, d_row in d.iterrows():\n",
    "        house_coords = (d_row['LAT'], d_row['LONG'])\n",
    "        shelter_coords = (r_row['LAT'], r_row['LONG'])\n",
    "        distance_km = geodesic(house_coords, shelter_coords).kilometers\n",
    "        distances_matrix[i, j] = distance_km"
   ]
  },
  {
   "cell_type": "code",
   "execution_count": 6,
   "metadata": {
    "colab": {
     "base_uri": "https://localhost:8080/",
     "height": 412
    },
    "id": "eMMpnQa2FCzk",
    "outputId": "22971fa4-5d4f-4c4f-d22c-982f46a9fbb7"
   },
   "outputs": [
    {
     "data": {
      "text/html": [
       "<div>\n",
       "<style scoped>\n",
       "    .dataframe tbody tr th:only-of-type {\n",
       "        vertical-align: middle;\n",
       "    }\n",
       "\n",
       "    .dataframe tbody tr th {\n",
       "        vertical-align: top;\n",
       "    }\n",
       "\n",
       "    .dataframe thead th {\n",
       "        text-align: right;\n",
       "    }\n",
       "</style>\n",
       "<table border=\"1\" class=\"dataframe\">\n",
       "  <thead>\n",
       "    <tr style=\"text-align: right;\">\n",
       "      <th></th>\n",
       "      <th>0</th>\n",
       "      <th>1</th>\n",
       "      <th>2</th>\n",
       "      <th>3</th>\n",
       "      <th>4</th>\n",
       "      <th>5</th>\n",
       "      <th>6</th>\n",
       "    </tr>\n",
       "  </thead>\n",
       "  <tbody>\n",
       "    <tr>\n",
       "      <th>0</th>\n",
       "      <td>0.781609</td>\n",
       "      <td>1.182729</td>\n",
       "      <td>11.238338</td>\n",
       "      <td>10.899050</td>\n",
       "      <td>1.728062</td>\n",
       "      <td>1.627947</td>\n",
       "      <td>1.393408</td>\n",
       "    </tr>\n",
       "    <tr>\n",
       "      <th>1</th>\n",
       "      <td>0.937650</td>\n",
       "      <td>0.408579</td>\n",
       "      <td>10.162695</td>\n",
       "      <td>9.916219</td>\n",
       "      <td>1.241407</td>\n",
       "      <td>0.634867</td>\n",
       "      <td>1.042719</td>\n",
       "    </tr>\n",
       "    <tr>\n",
       "      <th>2</th>\n",
       "      <td>6.225237</td>\n",
       "      <td>5.022717</td>\n",
       "      <td>6.208644</td>\n",
       "      <td>4.901573</td>\n",
       "      <td>6.073508</td>\n",
       "      <td>5.210296</td>\n",
       "      <td>4.832876</td>\n",
       "    </tr>\n",
       "    <tr>\n",
       "      <th>3</th>\n",
       "      <td>12.289903</td>\n",
       "      <td>11.095291</td>\n",
       "      <td>5.446672</td>\n",
       "      <td>2.503020</td>\n",
       "      <td>12.066756</td>\n",
       "      <td>11.238199</td>\n",
       "      <td>10.883756</td>\n",
       "    </tr>\n",
       "    <tr>\n",
       "      <th>4</th>\n",
       "      <td>10.758061</td>\n",
       "      <td>9.857524</td>\n",
       "      <td>0.544430</td>\n",
       "      <td>2.543176</td>\n",
       "      <td>10.171639</td>\n",
       "      <td>9.576061</td>\n",
       "      <td>9.943845</td>\n",
       "    </tr>\n",
       "    <tr>\n",
       "      <th>5</th>\n",
       "      <td>22.048704</td>\n",
       "      <td>21.002684</td>\n",
       "      <td>11.537166</td>\n",
       "      <td>11.308584</td>\n",
       "      <td>21.573704</td>\n",
       "      <td>20.889265</td>\n",
       "      <td>20.944191</td>\n",
       "    </tr>\n",
       "    <tr>\n",
       "      <th>6</th>\n",
       "      <td>21.994497</td>\n",
       "      <td>20.950109</td>\n",
       "      <td>11.474930</td>\n",
       "      <td>11.258378</td>\n",
       "      <td>21.517672</td>\n",
       "      <td>20.834540</td>\n",
       "      <td>20.893165</td>\n",
       "    </tr>\n",
       "  </tbody>\n",
       "</table>\n",
       "</div>"
      ],
      "text/plain": [
       "           0          1          2          3          4          5          6\n",
       "0   0.781609   1.182729  11.238338  10.899050   1.728062   1.627947   1.393408\n",
       "1   0.937650   0.408579  10.162695   9.916219   1.241407   0.634867   1.042719\n",
       "2   6.225237   5.022717   6.208644   4.901573   6.073508   5.210296   4.832876\n",
       "3  12.289903  11.095291   5.446672   2.503020  12.066756  11.238199  10.883756\n",
       "4  10.758061   9.857524   0.544430   2.543176  10.171639   9.576061   9.943845\n",
       "5  22.048704  21.002684  11.537166  11.308584  21.573704  20.889265  20.944191\n",
       "6  21.994497  20.950109  11.474930  11.258378  21.517672  20.834540  20.893165"
      ]
     },
     "execution_count": 6,
     "metadata": {},
     "output_type": "execute_result"
    }
   ],
   "source": [
    "distances_df = pd.DataFrame(distances_matrix, index=r.index, columns=d.index)\n",
    "distances_df.head(10)"
   ]
  },
  {
   "cell_type": "code",
   "execution_count": 7,
   "metadata": {
    "id": "aZ16dDYGJLvO"
   },
   "outputs": [],
   "source": [
    "distances_df.to_csv(\"distancias_reales.csv\", index=False)"
   ]
  }
 ],
 "metadata": {
  "colab": {
   "provenance": []
  },
  "kernelspec": {
   "display_name": "Python 3 (ipykernel)",
   "language": "python",
   "name": "python3"
  },
  "language_info": {
   "codemirror_mode": {
    "name": "ipython",
    "version": 3
   },
   "file_extension": ".py",
   "mimetype": "text/x-python",
   "name": "python",
   "nbconvert_exporter": "python",
   "pygments_lexer": "ipython3",
   "version": "3.11.5"
  }
 },
 "nbformat": 4,
 "nbformat_minor": 1
}
